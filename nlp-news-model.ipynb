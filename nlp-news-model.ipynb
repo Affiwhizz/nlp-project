{
 "cells": [
  {
   "cell_type": "markdown",
   "metadata": {},
   "source": [
    "# PROJECT | Natural Language Processing Challenge"
   ]
  },
  {
   "cell_type": "markdown",
   "metadata": {},
   "source": [
    "- **dataset/data.csv** dataset containing news articles with the following columns:\n",
    "\n",
    "    label: 0 if the news is fake, 1 if the news is real.\n",
    "    title: The headline of the news article.\n",
    "    text: The full content of the article.\n",
    "    subject: The category or topic of the news.\n",
    "    date: The publication date of the article.\n"
   ]
  },
  {
   "cell_type": "markdown",
   "metadata": {},
   "source": [
    "## Phase 1: Data Loading and Exploration"
   ]
  },
  {
   "cell_type": "markdown",
   "metadata": {},
   "source": [
    "### Import Libraries"
   ]
  },
  {
   "cell_type": "code",
   "execution_count": 1,
   "metadata": {},
   "outputs": [],
   "source": [
    "import pandas as pd\n",
    "from sklearn.feature_extraction.text import CountVectorizer\n",
    "from sklearn.feature_extraction.text import TfidfVectorizer\n",
    "from sklearn.naive_bayes import MultinomialNB\n",
    "from sklearn.ensemble import RandomForestClassifier\n",
    "from sklearn.metrics import classification_report,confusion_matrix,accuracy_score"
   ]
  },
  {
   "cell_type": "markdown",
   "metadata": {},
   "source": [
    "### Load and Read dataset"
   ]
  },
  {
   "cell_type": "code",
   "execution_count": null,
   "metadata": {},
   "outputs": [],
   "source": [
    "df=pd.read_csv('./dataset/data.csv', encoding = \"ISO-8859-1\")\n"
   ]
  },
  {
   "cell_type": "code",
   "execution_count": 7,
   "metadata": {},
   "outputs": [
    {
     "data": {
      "text/html": [
       "<div>\n",
       "<style scoped>\n",
       "    .dataframe tbody tr th:only-of-type {\n",
       "        vertical-align: middle;\n",
       "    }\n",
       "\n",
       "    .dataframe tbody tr th {\n",
       "        vertical-align: top;\n",
       "    }\n",
       "\n",
       "    .dataframe thead th {\n",
       "        text-align: right;\n",
       "    }\n",
       "</style>\n",
       "<table border=\"1\" class=\"dataframe\">\n",
       "  <thead>\n",
       "    <tr style=\"text-align: right;\">\n",
       "      <th></th>\n",
       "      <th>label</th>\n",
       "      <th>title</th>\n",
       "      <th>text</th>\n",
       "      <th>subject</th>\n",
       "      <th>date</th>\n",
       "    </tr>\n",
       "  </thead>\n",
       "  <tbody>\n",
       "    <tr>\n",
       "      <th>0</th>\n",
       "      <td>1</td>\n",
       "      <td>As U.S. budget fight looms, Republicans flip t...</td>\n",
       "      <td>WASHINGTON (Reuters) - The head of a conservat...</td>\n",
       "      <td>politicsNews</td>\n",
       "      <td>December 31, 2017</td>\n",
       "    </tr>\n",
       "    <tr>\n",
       "      <th>1</th>\n",
       "      <td>1</td>\n",
       "      <td>U.S. military to accept transgender recruits o...</td>\n",
       "      <td>WASHINGTON (Reuters) - Transgender people will...</td>\n",
       "      <td>politicsNews</td>\n",
       "      <td>December 29, 2017</td>\n",
       "    </tr>\n",
       "    <tr>\n",
       "      <th>2</th>\n",
       "      <td>1</td>\n",
       "      <td>Senior U.S. Republican senator: 'Let Mr. Muell...</td>\n",
       "      <td>WASHINGTON (Reuters) - The special counsel inv...</td>\n",
       "      <td>politicsNews</td>\n",
       "      <td>December 31, 2017</td>\n",
       "    </tr>\n",
       "    <tr>\n",
       "      <th>3</th>\n",
       "      <td>1</td>\n",
       "      <td>FBI Russia probe helped by Australian diplomat...</td>\n",
       "      <td>WASHINGTON (Reuters) - Trump campaign adviser ...</td>\n",
       "      <td>politicsNews</td>\n",
       "      <td>December 30, 2017</td>\n",
       "    </tr>\n",
       "    <tr>\n",
       "      <th>4</th>\n",
       "      <td>1</td>\n",
       "      <td>Trump wants Postal Service to charge 'much mor...</td>\n",
       "      <td>SEATTLE/WASHINGTON (Reuters) - President Donal...</td>\n",
       "      <td>politicsNews</td>\n",
       "      <td>December 29, 2017</td>\n",
       "    </tr>\n",
       "  </tbody>\n",
       "</table>\n",
       "</div>"
      ],
      "text/plain": [
       "   label                                              title  \\\n",
       "0      1  As U.S. budget fight looms, Republicans flip t...   \n",
       "1      1  U.S. military to accept transgender recruits o...   \n",
       "2      1  Senior U.S. Republican senator: 'Let Mr. Muell...   \n",
       "3      1  FBI Russia probe helped by Australian diplomat...   \n",
       "4      1  Trump wants Postal Service to charge 'much mor...   \n",
       "\n",
       "                                                text       subject  \\\n",
       "0  WASHINGTON (Reuters) - The head of a conservat...  politicsNews   \n",
       "1  WASHINGTON (Reuters) - Transgender people will...  politicsNews   \n",
       "2  WASHINGTON (Reuters) - The special counsel inv...  politicsNews   \n",
       "3  WASHINGTON (Reuters) - Trump campaign adviser ...  politicsNews   \n",
       "4  SEATTLE/WASHINGTON (Reuters) - President Donal...  politicsNews   \n",
       "\n",
       "                 date  \n",
       "0  December 31, 2017   \n",
       "1  December 29, 2017   \n",
       "2  December 31, 2017   \n",
       "3  December 30, 2017   \n",
       "4  December 29, 2017   "
      ]
     },
     "execution_count": 7,
     "metadata": {},
     "output_type": "execute_result"
    }
   ],
   "source": [
    "df.head()"
   ]
  },
  {
   "cell_type": "code",
   "execution_count": 8,
   "metadata": {},
   "outputs": [
    {
     "name": "stdout",
     "output_type": "stream",
     "text": [
      "Dataset shape:  (39942, 5)\n",
      "\n",
      "Columns:  ['label', 'title', 'text', 'subject', 'date']\n",
      "<class 'pandas.core.frame.DataFrame'>\n",
      "RangeIndex: 39942 entries, 0 to 39941\n",
      "Data columns (total 5 columns):\n",
      " #   Column   Non-Null Count  Dtype \n",
      "---  ------   --------------  ----- \n",
      " 0   label    39942 non-null  int64 \n",
      " 1   title    39942 non-null  object\n",
      " 2   text     39942 non-null  object\n",
      " 3   subject  39942 non-null  object\n",
      " 4   date     39942 non-null  object\n",
      "dtypes: int64(1), object(4)\n",
      "memory usage: 1.5+ MB\n"
     ]
    }
   ],
   "source": [
    "print(\"Dataset shape: \", df.shape)\n",
    "print(\"\\nColumns: \", df.columns.tolist())\n",
    "df.info()\n"
   ]
  },
  {
   "cell_type": "markdown",
   "metadata": {},
   "source": [
    "we can see already there are no missing values"
   ]
  },
  {
   "cell_type": "code",
   "execution_count": 16,
   "metadata": {},
   "outputs": [
    {
     "name": "stdout",
     "output_type": "stream",
     "text": [
      "Examples of titles:\n",
      "       label                                              title\n",
      "6524       1  Oil business seen in strong position as Trump ...\n",
      "30902      0  WHOA! COLLEGE SNOWFLAKE FREAKS OUT: Screams Fo...\n",
      "36459      0  CRONY CORRUPT POLITICS: Obama Admin BLOCKED FB...\n",
      "9801       1  Cruz campaign vetting Fiorina as a possible VP...\n",
      "25638      0   Minnesota Woman Writes Amazing F*ck Off Lette...\n",
      "Examples of subjects:\n",
      "['politicsNews' 'worldnews' 'News' 'politics' 'Government News'\n",
      " 'left-news']\n"
     ]
    }
   ],
   "source": [
    "print(\"Examples of titles:\")\n",
    "print(df[['label','title']].sample(5, random_state=42))\n",
    "\n",
    "print(\"Examples of subjects:\")\n",
    "print(df['subject'].unique())\n"
   ]
  },
  {
   "cell_type": "code",
   "execution_count": 18,
   "metadata": {},
   "outputs": [
    {
     "data": {
      "text/html": [
       "<div>\n",
       "<style scoped>\n",
       "    .dataframe tbody tr th:only-of-type {\n",
       "        vertical-align: middle;\n",
       "    }\n",
       "\n",
       "    .dataframe tbody tr th {\n",
       "        vertical-align: top;\n",
       "    }\n",
       "\n",
       "    .dataframe thead th {\n",
       "        text-align: right;\n",
       "    }\n",
       "</style>\n",
       "<table border=\"1\" class=\"dataframe\">\n",
       "  <thead>\n",
       "    <tr style=\"text-align: right;\">\n",
       "      <th></th>\n",
       "      <th>label</th>\n",
       "      <th>title</th>\n",
       "    </tr>\n",
       "  </thead>\n",
       "  <tbody>\n",
       "    <tr>\n",
       "      <th>37460</th>\n",
       "      <td>0</td>\n",
       "      <td>BARBRA STREISAND Gives Up On Dream Of Impeachi...</td>\n",
       "    </tr>\n",
       "    <tr>\n",
       "      <th>37461</th>\n",
       "      <td>0</td>\n",
       "      <td>WATCH: SENATOR LINDSEY GRAHAM DROPS BOMBSHELLâ...</td>\n",
       "    </tr>\n",
       "    <tr>\n",
       "      <th>37462</th>\n",
       "      <td>0</td>\n",
       "      <td>âCONSERVATIVE GAY GUYâ BLASTS Penceâs As...</td>\n",
       "    </tr>\n",
       "    <tr>\n",
       "      <th>37463</th>\n",
       "      <td>0</td>\n",
       "      <td>WHITE COLLEGE SNOWFLAKES Can âIdentifyâ As...</td>\n",
       "    </tr>\n",
       "    <tr>\n",
       "      <th>37464</th>\n",
       "      <td>0</td>\n",
       "      <td>BILL NYE The FAKE Science Guy THREATENS Conser...</td>\n",
       "    </tr>\n",
       "  </tbody>\n",
       "</table>\n",
       "</div>"
      ],
      "text/plain": [
       "       label                                              title\n",
       "37460      0  BARBRA STREISAND Gives Up On Dream Of Impeachi...\n",
       "37461      0  WATCH: SENATOR LINDSEY GRAHAM DROPS BOMBSHELLâ...\n",
       "37462      0  âCONSERVATIVE GAY GUYâ BLASTS Penceâs As...\n",
       "37463      0  WHITE COLLEGE SNOWFLAKES Can âIdentifyâ As...\n",
       "37464      0  BILL NYE The FAKE Science Guy THREATENS Conser..."
      ]
     },
     "execution_count": 18,
     "metadata": {},
     "output_type": "execute_result"
    }
   ],
   "source": [
    "df[df['subject'] == 'left-news'][['label', 'title']].head(5)"
   ]
  },
  {
   "cell_type": "markdown",
   "metadata": {},
   "source": [
    "We wanted to check if there are any 'left-news' subject that are not fake"
   ]
  },
  {
   "cell_type": "code",
   "execution_count": null,
   "metadata": {},
   "outputs": [
    {
     "data": {
      "text/html": [
       "<div>\n",
       "<style scoped>\n",
       "    .dataframe tbody tr th:only-of-type {\n",
       "        vertical-align: middle;\n",
       "    }\n",
       "\n",
       "    .dataframe tbody tr th {\n",
       "        vertical-align: top;\n",
       "    }\n",
       "\n",
       "    .dataframe thead th {\n",
       "        text-align: right;\n",
       "    }\n",
       "</style>\n",
       "<table border=\"1\" class=\"dataframe\">\n",
       "  <thead>\n",
       "    <tr style=\"text-align: right;\">\n",
       "      <th></th>\n",
       "      <th>label</th>\n",
       "      <th>subject</th>\n",
       "      <th>title</th>\n",
       "    </tr>\n",
       "  </thead>\n",
       "  <tbody>\n",
       "  </tbody>\n",
       "</table>\n",
       "</div>"
      ],
      "text/plain": [
       "Empty DataFrame\n",
       "Columns: [label, subject, title]\n",
       "Index: []"
      ]
     },
     "execution_count": 19,
     "metadata": {},
     "output_type": "execute_result"
    }
   ],
   "source": [
    "df[(df['subject'] == 'left-news') & (df['label'] == 1)][['label', 'subject', 'title']].head()"
   ]
  },
  {
   "cell_type": "markdown",
   "metadata": {},
   "source": [
    "We will count how many fake (0) or real (1) articles exist per subject "
   ]
  },
  {
   "cell_type": "code",
   "execution_count": null,
   "metadata": {},
   "outputs": [
    {
     "data": {
      "text/html": [
       "<div>\n",
       "<style scoped>\n",
       "    .dataframe tbody tr th:only-of-type {\n",
       "        vertical-align: middle;\n",
       "    }\n",
       "\n",
       "    .dataframe tbody tr th {\n",
       "        vertical-align: top;\n",
       "    }\n",
       "\n",
       "    .dataframe thead th {\n",
       "        text-align: right;\n",
       "    }\n",
       "</style>\n",
       "<table border=\"1\" class=\"dataframe\">\n",
       "  <thead>\n",
       "    <tr style=\"text-align: right;\">\n",
       "      <th>label</th>\n",
       "      <th>0</th>\n",
       "      <th>1</th>\n",
       "    </tr>\n",
       "    <tr>\n",
       "      <th>subject</th>\n",
       "      <th></th>\n",
       "      <th></th>\n",
       "    </tr>\n",
       "  </thead>\n",
       "  <tbody>\n",
       "    <tr>\n",
       "      <th>Government News</th>\n",
       "      <td>1.0</td>\n",
       "      <td>0.0</td>\n",
       "    </tr>\n",
       "    <tr>\n",
       "      <th>News</th>\n",
       "      <td>1.0</td>\n",
       "      <td>0.0</td>\n",
       "    </tr>\n",
       "    <tr>\n",
       "      <th>left-news</th>\n",
       "      <td>1.0</td>\n",
       "      <td>0.0</td>\n",
       "    </tr>\n",
       "    <tr>\n",
       "      <th>politics</th>\n",
       "      <td>1.0</td>\n",
       "      <td>0.0</td>\n",
       "    </tr>\n",
       "    <tr>\n",
       "      <th>politicsNews</th>\n",
       "      <td>0.0</td>\n",
       "      <td>1.0</td>\n",
       "    </tr>\n",
       "    <tr>\n",
       "      <th>worldnews</th>\n",
       "      <td>0.0</td>\n",
       "      <td>1.0</td>\n",
       "    </tr>\n",
       "  </tbody>\n",
       "</table>\n",
       "</div>"
      ],
      "text/plain": [
       "label              0    1\n",
       "subject                  \n",
       "Government News  1.0  0.0\n",
       "News             1.0  0.0\n",
       "left-news        1.0  0.0\n",
       "politics         1.0  0.0\n",
       "politicsNews     0.0  1.0\n",
       "worldnews        0.0  1.0"
      ]
     },
     "execution_count": 22,
     "metadata": {},
     "output_type": "execute_result"
    }
   ],
   "source": [
    "pd.crosstab(df['subject'], df['label'], normalize='index')"
   ]
  },
  {
   "cell_type": "markdown",
   "metadata": {},
   "source": [
    "hot encoding"
   ]
  },
  {
   "cell_type": "markdown",
   "metadata": {},
   "source": [
    "leme (stem)\n",
    "randomforest"
   ]
  },
  {
   "cell_type": "markdown",
   "metadata": {},
   "source": [
    "## Phase 2: Text Preprocessing"
   ]
  },
  {
   "cell_type": "code",
   "execution_count": null,
   "metadata": {},
   "outputs": [
    {
     "name": "stderr",
     "output_type": "stream",
     "text": [
      "[nltk_data] Downloading package stopwords to\n",
      "[nltk_data]     C:\\Users\\Lain\\AppData\\Roaming\\nltk_data...\n",
      "[nltk_data]   Package stopwords is already up-to-date!\n",
      "[nltk_data] Downloading package punkt to\n",
      "[nltk_data]     C:\\Users\\Lain\\AppData\\Roaming\\nltk_data...\n",
      "[nltk_data]   Package punkt is already up-to-date!\n"
     ]
    }
   ],
   "source": [
    "import re\n",
    "import nltk\n",
    "from nltk.corpus import stopwords\n",
    "from nltk.stem import SnowballStemmer\n",
    "from nltk.tokenize import word_tokenize\n",
    "\n",
    "nltk.download('stopwords')\n",
    "nltk.download('punkt')\n",
    "\n",
    "stop_words = set(stopwords.words('english'))\n",
    "stemmer = SnowballStemmer(\"english\")"
   ]
  },
  {
   "cell_type": "markdown",
   "metadata": {},
   "source": [
    "### Define cleaning function"
   ]
  },
  {
   "cell_type": "code",
   "execution_count": null,
   "metadata": {},
   "outputs": [],
   "source": [
    "def preprocess_text(text):\n",
    "    # to lower case\n",
    "    text = text.lower()\n",
    "\n",
    "    # remove special characters, digits and punctuation\n",
    "    text = re.sub(r'[^a-z\\s]', '', text)\n",
    "\n",
    "    # tokenize\n",
    "    tokens = word_tokenize(text)\n",
    "\n",
    "    # stopwords\n",
    "    tokens = [w for w in tokens if w not in stop_words]\n",
    "\n",
    "    # apply stemming \n",
    "    tokens = [stemmer.stem(w) for w in tokens]\n",
    "    return ' '.join(tokens)"
   ]
  },
  {
   "cell_type": "code",
   "execution_count": 31,
   "metadata": {},
   "outputs": [
    {
     "name": "stdout",
     "output_type": "stream",
     "text": [
      "0        As U.S. budget fight looms, Republicans flip t...\n",
      "1        U.S. military to accept transgender recruits o...\n",
      "2        Senior U.S. Republican senator: 'Let Mr. Muell...\n",
      "3        FBI Russia probe helped by Australian diplomat...\n",
      "4        Trump wants Postal Service to charge 'much mor...\n",
      "                               ...                        \n",
      "39937    THIS IS NOT A JOKE! Soros-Linked Group Has Pla...\n",
      "39938    THE SMARTEST WOMAN In Politics: âHow Trump C...\n",
      "39939    BREAKING! SHOCKING VIDEO FROM CHARLOTTE RIOTS:...\n",
      "39940    BREAKING! Charlotte News Station Reports Cops ...\n",
      "39941    BIG MISTAKE! HILLARY JUST Proved To America Sh...\n",
      "Length: 39942, dtype: object\n"
     ]
    }
   ],
   "source": [
    "print(df['title']+ \" \" + df['text'])"
   ]
  },
  {
   "cell_type": "code",
   "execution_count": 30,
   "metadata": {},
   "outputs": [],
   "source": [
    "df['combined'] = df['title'] + \" \" + df['text']\n",
    "df['clean_combined'] = df['combined'].apply(preprocess_text) # train and test"
   ]
  },
  {
   "cell_type": "code",
   "execution_count": 32,
   "metadata": {},
   "outputs": [
    {
     "data": {
      "text/plain": [
       "0        us budget fight loom republican flip fiscal sc...\n",
       "1        us militari accept transgend recruit monday pe...\n",
       "2        senior us republican senat let mr mueller job ...\n",
       "3        fbi russia probe help australian diplomat tipo...\n",
       "4        trump want postal servic charg much amazon shi...\n",
       "                               ...                        \n",
       "39937    joke soroslink group plan destroy trumpwil reg...\n",
       "39938    smartest woman polit trump knock hillari first...\n",
       "39939    break shock video charlott riot situat control...\n",
       "39940    break charlott news station report cop dash ca...\n",
       "39941    big mistak hillari prove america shes commit k...\n",
       "Name: clean_combined, Length: 39942, dtype: object"
      ]
     },
     "execution_count": 32,
     "metadata": {},
     "output_type": "execute_result"
    }
   ],
   "source": [
    "df['clean_combined']"
   ]
  },
  {
   "cell_type": "markdown",
   "metadata": {},
   "source": [
    "### Subject hot one encodig"
   ]
  },
  {
   "cell_type": "code",
   "execution_count": 36,
   "metadata": {},
   "outputs": [],
   "source": [
    "subject_hot = pd.get_dummies(df['subject'], prefix='subject', dtype=int)\n",
    "\n",
    "df_preprocess = pd.concat([df, subject_hot], axis=1)"
   ]
  },
  {
   "cell_type": "code",
   "execution_count": 49,
   "metadata": {},
   "outputs": [],
   "source": [
    "df_label = df['label']"
   ]
  },
  {
   "cell_type": "code",
   "execution_count": 50,
   "metadata": {},
   "outputs": [
    {
     "data": {
      "text/plain": [
       "0        1\n",
       "1        1\n",
       "2        1\n",
       "3        1\n",
       "4        1\n",
       "        ..\n",
       "39937    0\n",
       "39938    0\n",
       "39939    0\n",
       "39940    0\n",
       "39941    0\n",
       "Name: label, Length: 39942, dtype: int64"
      ]
     },
     "execution_count": 50,
     "metadata": {},
     "output_type": "execute_result"
    }
   ],
   "source": [
    "df_label"
   ]
  },
  {
   "cell_type": "code",
   "execution_count": 51,
   "metadata": {},
   "outputs": [],
   "source": [
    "\n",
    "df_preprocess.drop(columns=['label', 'title', 'text','subject','date','combined'], inplace=True)"
   ]
  },
  {
   "cell_type": "code",
   "execution_count": 52,
   "metadata": {},
   "outputs": [],
   "source": [
    "df_preprocessed = pd.concat([df_label, df_preprocess], axis=1)"
   ]
  },
  {
   "cell_type": "code",
   "execution_count": 53,
   "metadata": {},
   "outputs": [
    {
     "data": {
      "text/html": [
       "<div>\n",
       "<style scoped>\n",
       "    .dataframe tbody tr th:only-of-type {\n",
       "        vertical-align: middle;\n",
       "    }\n",
       "\n",
       "    .dataframe tbody tr th {\n",
       "        vertical-align: top;\n",
       "    }\n",
       "\n",
       "    .dataframe thead th {\n",
       "        text-align: right;\n",
       "    }\n",
       "</style>\n",
       "<table border=\"1\" class=\"dataframe\">\n",
       "  <thead>\n",
       "    <tr style=\"text-align: right;\">\n",
       "      <th></th>\n",
       "      <th>label</th>\n",
       "      <th>clean_combined</th>\n",
       "      <th>subject_Government News</th>\n",
       "      <th>subject_News</th>\n",
       "      <th>subject_left-news</th>\n",
       "      <th>subject_politics</th>\n",
       "      <th>subject_politicsNews</th>\n",
       "      <th>subject_worldnews</th>\n",
       "    </tr>\n",
       "  </thead>\n",
       "  <tbody>\n",
       "    <tr>\n",
       "      <th>0</th>\n",
       "      <td>1</td>\n",
       "      <td>us budget fight loom republican flip fiscal sc...</td>\n",
       "      <td>0</td>\n",
       "      <td>0</td>\n",
       "      <td>0</td>\n",
       "      <td>0</td>\n",
       "      <td>1</td>\n",
       "      <td>0</td>\n",
       "    </tr>\n",
       "    <tr>\n",
       "      <th>1</th>\n",
       "      <td>1</td>\n",
       "      <td>us militari accept transgend recruit monday pe...</td>\n",
       "      <td>0</td>\n",
       "      <td>0</td>\n",
       "      <td>0</td>\n",
       "      <td>0</td>\n",
       "      <td>1</td>\n",
       "      <td>0</td>\n",
       "    </tr>\n",
       "    <tr>\n",
       "      <th>2</th>\n",
       "      <td>1</td>\n",
       "      <td>senior us republican senat let mr mueller job ...</td>\n",
       "      <td>0</td>\n",
       "      <td>0</td>\n",
       "      <td>0</td>\n",
       "      <td>0</td>\n",
       "      <td>1</td>\n",
       "      <td>0</td>\n",
       "    </tr>\n",
       "    <tr>\n",
       "      <th>3</th>\n",
       "      <td>1</td>\n",
       "      <td>fbi russia probe help australian diplomat tipo...</td>\n",
       "      <td>0</td>\n",
       "      <td>0</td>\n",
       "      <td>0</td>\n",
       "      <td>0</td>\n",
       "      <td>1</td>\n",
       "      <td>0</td>\n",
       "    </tr>\n",
       "    <tr>\n",
       "      <th>4</th>\n",
       "      <td>1</td>\n",
       "      <td>trump want postal servic charg much amazon shi...</td>\n",
       "      <td>0</td>\n",
       "      <td>0</td>\n",
       "      <td>0</td>\n",
       "      <td>0</td>\n",
       "      <td>1</td>\n",
       "      <td>0</td>\n",
       "    </tr>\n",
       "    <tr>\n",
       "      <th>...</th>\n",
       "      <td>...</td>\n",
       "      <td>...</td>\n",
       "      <td>...</td>\n",
       "      <td>...</td>\n",
       "      <td>...</td>\n",
       "      <td>...</td>\n",
       "      <td>...</td>\n",
       "      <td>...</td>\n",
       "    </tr>\n",
       "    <tr>\n",
       "      <th>39937</th>\n",
       "      <td>0</td>\n",
       "      <td>joke soroslink group plan destroy trumpwil reg...</td>\n",
       "      <td>0</td>\n",
       "      <td>0</td>\n",
       "      <td>1</td>\n",
       "      <td>0</td>\n",
       "      <td>0</td>\n",
       "      <td>0</td>\n",
       "    </tr>\n",
       "    <tr>\n",
       "      <th>39938</th>\n",
       "      <td>0</td>\n",
       "      <td>smartest woman polit trump knock hillari first...</td>\n",
       "      <td>0</td>\n",
       "      <td>0</td>\n",
       "      <td>1</td>\n",
       "      <td>0</td>\n",
       "      <td>0</td>\n",
       "      <td>0</td>\n",
       "    </tr>\n",
       "    <tr>\n",
       "      <th>39939</th>\n",
       "      <td>0</td>\n",
       "      <td>break shock video charlott riot situat control...</td>\n",
       "      <td>0</td>\n",
       "      <td>0</td>\n",
       "      <td>1</td>\n",
       "      <td>0</td>\n",
       "      <td>0</td>\n",
       "      <td>0</td>\n",
       "    </tr>\n",
       "    <tr>\n",
       "      <th>39940</th>\n",
       "      <td>0</td>\n",
       "      <td>break charlott news station report cop dash ca...</td>\n",
       "      <td>0</td>\n",
       "      <td>0</td>\n",
       "      <td>1</td>\n",
       "      <td>0</td>\n",
       "      <td>0</td>\n",
       "      <td>0</td>\n",
       "    </tr>\n",
       "    <tr>\n",
       "      <th>39941</th>\n",
       "      <td>0</td>\n",
       "      <td>big mistak hillari prove america shes commit k...</td>\n",
       "      <td>0</td>\n",
       "      <td>0</td>\n",
       "      <td>1</td>\n",
       "      <td>0</td>\n",
       "      <td>0</td>\n",
       "      <td>0</td>\n",
       "    </tr>\n",
       "  </tbody>\n",
       "</table>\n",
       "<p>39942 rows × 8 columns</p>\n",
       "</div>"
      ],
      "text/plain": [
       "       label                                     clean_combined  \\\n",
       "0          1  us budget fight loom republican flip fiscal sc...   \n",
       "1          1  us militari accept transgend recruit monday pe...   \n",
       "2          1  senior us republican senat let mr mueller job ...   \n",
       "3          1  fbi russia probe help australian diplomat tipo...   \n",
       "4          1  trump want postal servic charg much amazon shi...   \n",
       "...      ...                                                ...   \n",
       "39937      0  joke soroslink group plan destroy trumpwil reg...   \n",
       "39938      0  smartest woman polit trump knock hillari first...   \n",
       "39939      0  break shock video charlott riot situat control...   \n",
       "39940      0  break charlott news station report cop dash ca...   \n",
       "39941      0  big mistak hillari prove america shes commit k...   \n",
       "\n",
       "       subject_Government News  subject_News  subject_left-news  \\\n",
       "0                            0             0                  0   \n",
       "1                            0             0                  0   \n",
       "2                            0             0                  0   \n",
       "3                            0             0                  0   \n",
       "4                            0             0                  0   \n",
       "...                        ...           ...                ...   \n",
       "39937                        0             0                  1   \n",
       "39938                        0             0                  1   \n",
       "39939                        0             0                  1   \n",
       "39940                        0             0                  1   \n",
       "39941                        0             0                  1   \n",
       "\n",
       "       subject_politics  subject_politicsNews  subject_worldnews  \n",
       "0                     0                     1                  0  \n",
       "1                     0                     1                  0  \n",
       "2                     0                     1                  0  \n",
       "3                     0                     1                  0  \n",
       "4                     0                     1                  0  \n",
       "...                 ...                   ...                ...  \n",
       "39937                 0                     0                  0  \n",
       "39938                 0                     0                  0  \n",
       "39939                 0                     0                  0  \n",
       "39940                 0                     0                  0  \n",
       "39941                 0                     0                  0  \n",
       "\n",
       "[39942 rows x 8 columns]"
      ]
     },
     "execution_count": 53,
     "metadata": {},
     "output_type": "execute_result"
    }
   ],
   "source": [
    "df_preprocessed"
   ]
  },
  {
   "cell_type": "markdown",
   "metadata": {},
   "source": [
    "## Phase 3: Feature Engineering"
   ]
  },
  {
   "cell_type": "code",
   "execution_count": 55,
   "metadata": {},
   "outputs": [],
   "source": [
    "# Split train & test\n",
    "from sklearn.model_selection import train_test_split\n",
    "\n",
    "X_train, X_test, y_train, y_test = train_test_split(df_preprocess, df_label, test_size=0.2, random_state=42)"
   ]
  }
 ],
 "metadata": {
  "kernelspec": {
   "display_name": "base",
   "language": "python",
   "name": "python3"
  },
  "language_info": {
   "codemirror_mode": {
    "name": "ipython",
    "version": 3
   },
   "file_extension": ".py",
   "mimetype": "text/x-python",
   "name": "python",
   "nbconvert_exporter": "python",
   "pygments_lexer": "ipython3",
   "version": "3.12.7"
  }
 },
 "nbformat": 4,
 "nbformat_minor": 2
}
